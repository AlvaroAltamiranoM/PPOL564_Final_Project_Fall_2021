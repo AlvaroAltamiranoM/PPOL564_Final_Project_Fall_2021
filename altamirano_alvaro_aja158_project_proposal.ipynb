{
 "cells": [
  {
   "cell_type": "markdown",
   "metadata": {},
   "source": [
    "# PPOL564 | Data Science 1: Foundations | Project Proposal\n",
    "\n",
    "###  Alvaro Altamirano Montoya\n",
    "### Final Project – Proposal 2.0"
   ]
  },
  {
   "attachments": {},
   "cell_type": "markdown",
   "metadata": {},
   "source": [
    "#### 1: About\n",
    "\n",
    "##### Four months before the pandemic I started web-scraping data on online job vacancies for 18 countries in Latin America. My main inspirations to start this project have been CEDEFOP’s Online Vacancy Analysis [Tool for Europe](https://www.cedefop.europa.eu/en/tools/skills-online-vacancies), Burning Glass-based papers for the USA, and a few national projects on job portals data implemented by national statistics institutes (Mexico, Ecuador, Chile). A showcase of my data is being displayed on the Inter-American Development Bank’s coronavirus labor markets monitor [dashboard](https://observatoriolaboral.iadb.org/en/vacantes/). \n",
    "\n",
    "##### On the long-run I am interested in exploring whether the covid-19 crisis will accelerate technological change as seen through vacancies information, develop metrics for the concentration of firms and occupations, and examine the regional evolution of skills-contents and occupational distribution of postings. In particular for this project, I will create a regression model for the prediction of the natural logarithmic of monthly wages and other inferencial relantionships with the aid of Machine Learning (ML) and broad data analytics methods we have learned in class. \n",
    "\n",
    "#### 2: Data\n",
    "##### This regional dataset currently comprises ~4 million unique observations for all 18 countries, with high concentration in Mexico, Colombia, Brazil, Chile, Venezuela, and Peru. I do weekly downloads of new postings and save country-level datasets with an average of 15 variables per country, including a rich set of sociodemographic characteristics. \n",
    "\n",
    "#### 3: Methods \n",
    "##### This project will use a subset of the data, basically for the comparison of model results in two countries: Mexico and Guatemala. Following a descriptive analysis and data wrangling first step (with libraries such as numpy, pandas, etc.), a pipeline of at least four different ML models (KNN, RF, LM, LS, SVM) and post-estimation visuals as a second step (using scikit-learn, ggplot, plotly, seaborn, etc.) will help signal the most important relationships between salary and other features/variables in the data.\n",
    "\n",
    "#### 4: Discussion \n",
    "##### The availability of a 'description' column depicting the main functions and tasks required for the duty should allow for the creation of  additional features of skills-dummy variables (`pandas.get_dummies`) found in the pertinent literature. A relevant reference is Deming & Kahn's 2018 paper using data from online job vacancies in the U.S. These authors analyze the heterogeneity of skill requirements within occupations and across locations in the US. Their main definition of skills, displayed in Table 1, depends on strings that can be extracted from the text using panda's extract method. The significance or influence of these new skills features -permutation analysis- will help identify which skills are currently more important in these two labor markets.\n",
    "\n",
    "&ensp;\n",
    "\n",
    "<div>\n",
    "<img src=\"DK2018.png\" width=\"500\">\n",
    "</div>"
   ]
  },
  {
   "cell_type": "markdown",
   "metadata": {},
   "source": [
    "#### 5: References\n",
    "\n",
    "##### Deming, D., & Kahn, L. B. (2018). Skill requirements across firms and labor markets: Evidence from job postings for professionals. Journal of Labor Economics, 36(S1), S337-S369."
   ]
  }
 ],
 "metadata": {
  "kernelspec": {
   "display_name": "Python 3",
   "language": "python",
   "name": "python3"
  },
  "language_info": {
   "codemirror_mode": {
    "name": "ipython",
    "version": 3
   },
   "file_extension": ".py",
   "mimetype": "text/x-python",
   "name": "python",
   "nbconvert_exporter": "python",
   "pygments_lexer": "ipython3",
   "version": "3.7.4"
  }
 },
 "nbformat": 4,
 "nbformat_minor": 2
}
