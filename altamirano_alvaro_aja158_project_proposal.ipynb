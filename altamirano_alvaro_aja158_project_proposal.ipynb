{
 "cells": [
  {
   "cell_type": "markdown",
   "metadata": {},
   "source": [
    "# PPOL564 | Data Science 1: Foundations | Project Proposal\n",
    "\n",
    "###  Alvaro Altamirano Montoya\n",
    "### Final Project – Proposal"
   ]
  },
  {
   "cell_type": "markdown",
   "metadata": {},
   "source": [
    "#### 1: Motivation and overview\n",
    "\n",
    "###### This idea for a Project came after Tiago Ventura’s presentation on “The Effect of Streaming Chat on Perceptions of Political Debates” at Old North. In a conversation after the event I asked him about using Twitter data to assess the hypothesis that, vis-à-vis so-called downstream NLP classification models, the combination of human labelled sets and supervised machine learning (ML) models still provide a better pathway for accurately classifying the polarity of sentiments. In supervised ML, having a good labelled dataset is crucial, and usually time-intensive. Within this general framework, my proposal is to develop a [Python/Plotly/Dash](https://plotly.com/dash/) dashboard to ease the task of human labelling of very specific subjects and visually display selected statistics. \n"
   ]
  },
  {
   "cell_type": "markdown",
   "metadata": {},
   "source": [
    "#### 2: Data.\n",
    "##### My focus in terms of data-subject would be recent tweets from politicians, specifically from the latin@x currently serving in the House and Senate of the United States Government. The tweets would be downloaded once using the Tweepy library, under a free of use Twitter API account, and respecting all scrapping rate limitations and general anonymity regulations. The report will include a brief description of the data that will be downloaded and imported to python for analysis.\n",
    "\n",
    "#### 3: Python dashboard.\n",
    "##### The dashboard will be published for free on a [herokup.app](https://www.heroku.com/) domain, using Python 3.7 for both back and front end development. Downloaded tweets will be hosted in a MongoDB server, from where the app would both load raw tweets and upload classified tweets. The app should be simple and allow for a trinary sentiment polarity (positive, negative, neutral) and topic tagging. The Machine Learning infrastructure will come from class sessions and previous experience in developing twitter [sentiment analysis in Python](https://ajaltamiranomontoya.medium.com/twitter-sentiment-analysis-what-does-people-say-about-brazils-ongoing-pension-reform-830568e5b3fd). This should allow more time to devote to the app itself. Once the app is running I will use it to classify a set of approximately one thousand tweets into sentiment polarity and topic.\n",
    "\n",
    "#### 4: Vision and use cases.\n",
    "##### Inspirations for the app include [Docano](https://doccano.herokuapp.com/) and [Prodigy](https://prodi.gy/docs/). The dashboard will have a second tab or page that includes a brief visual summary of the tweets and its creators’ characteristics. Finally, such an app can be easily scalable and serve as a free software tool for the labelling of text data with the aim of using such annotations for training supervised machine learning models. The following outline enumerates the Project’s expected stages.\n",
    "\n",
    "### Thematic Outline\n",
    "\n",
    "#### 1) Introducing the discussing over the use of social media data in political research, and the application of supervised and unsupervised ML using Twitter data specifically (1 page).\n",
    "\n",
    "#### 2) Data Extraction and Transformation section: Identifying all of the twitter handles for the chosen American politicians, and scrapping using Tweeter’s API and implemented necessary data wrangling (2 pages).\n",
    "\n",
    "#### 3) App development. Flask-React infrastructure provided by Dash, two-page dashboard with limited and aesthetically simple functionalities (2 pages).\n",
    "\n",
    "#### 4) ML infrastructure and comparison of a battery of mainstream classifiers with an ad-hoc supervised-learning classifier (where a labelled set will be tagged within the app) (1 page).\n",
    "\n",
    "#### 5) Final Discussion (0.5 pages).\n",
    "\n"
   ]
  },
  {
   "cell_type": "code",
   "execution_count": null,
   "metadata": {},
   "outputs": [],
   "source": []
  }
 ],
 "metadata": {
  "kernelspec": {
   "display_name": "Python 3",
   "language": "python",
   "name": "python3"
  },
  "language_info": {
   "codemirror_mode": {
    "name": "ipython",
    "version": 3
   },
   "file_extension": ".py",
   "mimetype": "text/x-python",
   "name": "python",
   "nbconvert_exporter": "python",
   "pygments_lexer": "ipython3",
   "version": "3.7.4"
  }
 },
 "nbformat": 4,
 "nbformat_minor": 2
}
