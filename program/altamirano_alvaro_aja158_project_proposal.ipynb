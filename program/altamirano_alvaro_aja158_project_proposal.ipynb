{
 "cells": [
  {
   "cell_type": "markdown",
   "metadata": {},
   "source": [
    "# PPOL564 | Data Science 1: Foundations | Project Proposal\n",
    "\n",
    "###  Alvaro Altamirano Montoya\n",
    "### Final Project – Proposal 2.0"
   ]
  },
  {
   "cell_type": "markdown",
   "metadata": {},
   "source": [
    "#### 1: About\n",
    "\n",
    "##### Four months before the pandemic I started web-scraping data on online job vacancies for 18 countries in Latin America. My main inspirations to start this project have been CEDEFOP’s Online Vacancy Analysis [Tool for Europe](https://www.cedefop.europa.eu/en/tools/skills-online-vacancies), Burning Glass-based papers for the USA, and a few national projects on job portals data implemented by national statistics institutes (Mexico, Ecuador, Chile). A showcase of my data is being displayed on the Inter-American Development Bank’s coronavirus labor markets monitor [dashboard](https://observatoriolaboral.iadb.org/en/vacantes/). \n",
    "\n",
    "##### On the long-run I am interested in exploring whether the covid-19 crisis will accelerate technological change as seen through vacancies information, develop metrics for the concentration of firms and occupations, and examine the regional evolution of skills-contents and occupational distribution of postings. In particular for this project, I will create a regression model for the prediction of the natural logarithmic of monthly wages and other inferencial relantionships with the aid of Machine Learning (ML) and broad data analytics methods we have learned in class. The unit of analysis of the dependent variable I am trying to predict is thus the log of offered montlhy wage for each job advert.\n",
    "\n",
    "#### 2: Data\n",
    "##### This regional dataset currently comprises ~4 million unique observations for all 18 countries, with high concentration in Mexico, Colombia, Brazil, Chile, Venezuela, and Peru. I have been implementing weekly downloads of new postings and save country-level datasets with an average of 15 variables per country, including a rich set of sociodemographic characteristics. Currently I have two years of weekly ingested relational csv files (October 2019 - November 2021): an appended regional dataset of over 4 gigas in csv size. \n",
    "#### 3: Methods \n",
    "##### This project will use a subset of the data for the comparison of model results. This initial exploration project will data from two countries: Mexico and Guatemala. In June 2021 I run text analysis to identify words associated with telework for a subset of the larger countries, and the processing for that exercise was slow. I suxpect using the whole set of countries would require more time both to run and calibrate the models, and to provide the readers with some descriptive statistics at the country-level. Therefore, I prefer to create the set-up to run these analyses next semester, using AWS, Azure, or other cloud-computing platform. Another consideration is further work I have to do with cross-country comparisons. This because some variables change across countries. Guatemala and Mexico are good first exploration candidates, since both have labor markets with similar levels of labor formality and skills requirements (both host a majority of small informal low productivity firms), and the contrast of very big and very small datasets can shed light into differences across models resuls.\n",
    "\n",
    "##### Following a descriptive analysis and data wrangling first step (with libraries such as numpy, pandas, etc.), a pipeline of at least four different ML models (KNN, RF, LM, LS, SVM) and post-estimation visuals as a second step (using scikit-learn, ggplot, plotly, seaborn, etc.) will help signal the most important relationships between salary and other features/variables in the data.\n",
    "\n",
    "#### 4: Discussion \n",
    "##### The availability of a 'description' column depicting the main functions and tasks required for the duty should allow for the creation of  additional features of skills-dummy variables (`pandas.get_dummies`) found in the pertinent literature. A relevant reference is Deming & Kahn's 2018 paper using data from online job vacancies in the U.S. These authors analyze the heterogeneity of skill requirements within occupations and across locations in the US. Their main definition of skills, displayed in Table 1, depends on strings that can be extracted from the text using panda's extract method. The significance or influence of these new skills features -permutation analysis- will help identify which skills have been more important or affected in these two labor markets during the pandemic (according to Altamirano et al. (2020), in the Americas, the first labor market impacts resulting from the pandemic were observed starting in April for most countries).\n",
    "\n",
    "#### A definition of success will be the selection of a particular model or group of models that better fit this regression task, a better understanding of jobs ads dynamics in both Guatemala and Mexico, an initial identification of the ideal setup for cloud computing services (e.g. AWS), and being able to observe whether Ddeming and Kahn's skills definition matter for countries in the Americas.\n",
    "\n",
    "&ensp;\n",
    "\n",
    "<div>\n",
    "<img src=\"DK2018.png\" width=\"500\" >\n",
    "</div>"
   ]
  },
  {
   "cell_type": "markdown",
   "metadata": {},
   "source": [
    "#### 5: References\n",
    "\n",
    "##### Deming, D., & Kahn, L. B. (2018). Skill requirements across firms and labor markets: Evidence from job postings for professionals. Journal of Labor Economics, 36(S1), S337-S369.\n",
    "\n",
    "##### Altamirano, A., Azuara, O., & González, S. (2020). ¿ Cómo impactará la COVID-19 al empleo. Posibles escenarios para América Latina y el Caribe. Banco Interamericano de Desarrollo."
   ]
  }
 ],
 "metadata": {
  "hide_input": false,
  "kernelspec": {
   "display_name": "Python 3",
   "language": "python",
   "name": "python3"
  },
  "language_info": {
   "codemirror_mode": {
    "name": "ipython",
    "version": 3
   },
   "file_extension": ".py",
   "mimetype": "text/x-python",
   "name": "python",
   "nbconvert_exporter": "python",
   "pygments_lexer": "ipython3",
   "version": "3.7.4"
  }
 },
 "nbformat": 4,
 "nbformat_minor": 2
}
